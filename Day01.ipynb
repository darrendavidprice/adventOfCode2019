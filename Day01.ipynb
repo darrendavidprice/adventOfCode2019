{
 "cells": [
  {
   "cell_type": "code",
   "execution_count": 1,
   "metadata": {},
   "outputs": [],
   "source": [
    "import numpy as np"
   ]
  },
  {
   "cell_type": "code",
   "execution_count": 3,
   "metadata": {},
   "outputs": [
    {
     "data": {
      "text/plain": [
       "array([ 67931., 140303., 100800.,  69347., 113036., 127599.,  55139.,\n",
       "        99718., 110237.,  94677.,  91616.,  61413.,  97141., 147045.,\n",
       "        80317.,  85634., 128437., 110968.,  98512., 126502.,  59518.,\n",
       "        50056.,  51086.,  76184., 108467.,  68365., 147143., 108928.,\n",
       "       116226.,  66485.,  51628., 135307., 137996.,  97127.,  81613.,\n",
       "        75879., 125516.,  94620., 143558., 132034.,  54931.,  92674.,\n",
       "        53882., 127867., 131491.,  62407.,  64241.,  71360.,  56144.,\n",
       "        90334., 134159.,  75906.,  73796., 117579.,  86488., 148313.,\n",
       "        75021.,  97415., 120250.,  79846.,  86608., 120340.,  85784.,\n",
       "       129891., 138462.,  52790.,  89129., 113506., 120093., 137375.,\n",
       "       146849.,  54732.,  56648.,  85853.,  64955., 146544., 117935.,\n",
       "       139159., 142617., 128819.,  82180.,  76478.,  74373., 110449.,\n",
       "        75714.,  83893., 135584.,  86978.,  99137.,  75541., 122106.,\n",
       "       146599.,  86589., 130870.,  84015.,  84593.,  67129., 131571.,\n",
       "       147694., 118053.])"
      ]
     },
     "execution_count": 3,
     "metadata": {},
     "output_type": "execute_result"
    }
   ],
   "source": [
    "data = np.loadtxt(\"./data/input_day01.dat\")\n",
    "data"
   ]
  },
  {
   "cell_type": "code",
   "execution_count": null,
   "metadata": {},
   "outputs": [],
   "source": []
  }
 ],
 "metadata": {
  "kernelspec": {
   "display_name": "Python 3",
   "language": "python",
   "name": "python3"
  },
  "language_info": {
   "codemirror_mode": {
    "name": "ipython",
    "version": 3
   },
   "file_extension": ".py",
   "mimetype": "text/x-python",
   "name": "python",
   "nbconvert_exporter": "python",
   "pygments_lexer": "ipython3",
   "version": "3.6.5"
  }
 },
 "nbformat": 4,
 "nbformat_minor": 2
}
